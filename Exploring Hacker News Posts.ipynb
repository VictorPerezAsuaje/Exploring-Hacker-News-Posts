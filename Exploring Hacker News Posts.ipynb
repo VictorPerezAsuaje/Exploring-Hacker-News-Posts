{
 "cells": [
  {
   "cell_type": "markdown",
   "metadata": {},
   "source": [
    "# Exploring Hacker News Posts\n",
    "\n",
    "Hacker News is a site started by the startup incubator Y Combinator, where user-submitted stories (known as \"posts\") are voted and commented upon, similar to reddit. Hacker News is extremely popular in technology and startup circles, and posts that make it to the top of Hacker News' listings can get hundreds of thousands of visitors as a result.\n",
    "\n",
    "I will be using a dataset of 300.000 rows with different posts to determine the following:\n",
    "* Do Ask HN or Show HN receive more comments on average?\n",
    "* Do posts created at a certain time receive more comments on average?\n",
    "\n",
    "Let's start by importing the libraries we need and reading the data set into a list of lists."
   ]
  },
  {
   "cell_type": "code",
   "execution_count": 3,
   "metadata": {},
   "outputs": [
    {
     "name": "stdout",
     "output_type": "stream",
     "text": [
      "['id', 'title', 'url', 'num_points', 'num_comments', 'author', 'created_at']\n",
      "[['12579008', 'You have two days to comment if you want stem cells to be classified as your own', 'http://www.regulations.gov/document?D=FDA-2015-D-3719-0018', '1', '0', 'altstar', '9/26/2016 3:26'], ['12579005', 'SQLAR  the SQLite Archiver', 'https://www.sqlite.org/sqlar/doc/trunk/README.md', '1', '0', 'blacksqr', '9/26/2016 3:24'], ['12578997', 'What if we just printed a flatscreen television on the side of our boxes?', 'https://medium.com/vanmoof/our-secrets-out-f21c1f03fdc8#.ietxmez43', '1', '0', 'pavel_lishin', '9/26/2016 3:19'], ['12578989', 'algorithmic music', 'http://cacm.acm.org/magazines/2011/7/109891-algorithmic-composition/fulltext', '1', '0', 'poindontcare', '9/26/2016 3:16'], ['12578979', 'How the Data Vault Enables the Next-Gen Data Warehouse and Data Lake', 'https://www.talend.com/blog/2016/05/12/talend-and-Â\\x93the-data-vaultÂ\\x94', '1', '0', 'markgainor1', '9/26/2016 3:14']]\n"
     ]
    }
   ],
   "source": [
    "from csv import reader\n",
    "\n",
    "opened_file = open('HN_posts_year_to_Sep_26_2016.csv', encoding=\"utf8\")\n",
    "read_file = reader(opened_file)\n",
    "hn = list(read_file)\n",
    "headers = hn[0]\n",
    "hn = hn[1:]\n",
    "print(headers)\n",
    "print(hn[0:5])"
   ]
  },
  {
   "cell_type": "markdown",
   "metadata": {},
   "source": [
    "Now that we've removed the headers from hn, we're ready to filter our data. Since we're only concerned with post titles beginning with Ask HN or Show HN, we'll create new lists of lists containing just the data for those titles. To find the posts that begin with either Ask HN or Show HN, we'll use the string method startswith."
   ]
  },
  {
   "cell_type": "code",
   "execution_count": 13,
   "metadata": {},
   "outputs": [
    {
     "name": "stdout",
     "output_type": "stream",
     "text": [
      "Ask posts:  9269\n",
      "['Ask HN: What TLD do you use for local development?', 'Ask HN: How do you pass on your work when you die?', 'Ask HN: How a DNS problem can be limited to a geographic region?', 'Ask HN: Why join a fund when you can be an angel?', 'Ask HN: Someone uses stock trading as passive income?']\n",
      "\n",
      "\n",
      "Show posts:  10218\n",
      "['Show HN: Finding puns computationally', 'Show HN: A simple library for complicated animations', 'Show HN: WebGL visualization of DNA sequences', 'Show HN: Pomodoro-centric, heirarchical project management with ES6 modules', 'Show HN: Jumble  Essays on the go #PaulInYourPocket']\n",
      "\n",
      "\n",
      "Other posts:  273632\n",
      "['You have two days to comment if you want stem cells to be classified as your own', 'SQLAR  the SQLite Archiver', 'What if we just printed a flatscreen television on the side of our boxes?', 'algorithmic music', 'How the Data Vault Enables the Next-Gen Data Warehouse and Data Lake']\n"
     ]
    }
   ],
   "source": [
    "ask_posts = []\n",
    "show_posts = []\n",
    "other_posts = []\n",
    "\n",
    "for each_row in hn:\n",
    "    name = each_row[1]\n",
    "    if name.lower().startswith('ask'):\n",
    "        ask_posts.append(name)\n",
    "    elif name.lower().startswith('show'):\n",
    "        show_posts.append(name)\n",
    "    else:\n",
    "        other_posts.append(name)\n",
    "        \n",
    "print('Ask posts: ', len(ask_posts))\n",
    "print(ask_posts[:5])\n",
    "print('\\n')\n",
    "print('Show posts: ',len(show_posts))\n",
    "print(show_posts[:5])\n",
    "print('\\n')\n",
    "print('Other posts: ',len(other_posts))\n",
    "print(other_posts[:5])"
   ]
  },
  {
   "cell_type": "markdown",
   "metadata": {},
   "source": [
    "Next, let's determine if ask posts or show posts receive more comments on average, both per post (number of comments / number of this type's post) and in total (number of comments / total number of comments)."
   ]
  },
  {
   "cell_type": "code",
   "execution_count": 14,
   "metadata": {},
   "outputs": [
    {
     "name": "stdout",
     "output_type": "stream",
     "text": [
      "N ask comments:  95736 , average per post:  10.33 , overall average:  5.01\n",
      "N show comments:  49684 , average per post:  4.86 , overall average:  2.6\n"
     ]
    }
   ],
   "source": [
    "total_ask_comments = 0\n",
    "total_show_comments = 0\n",
    "total_rest_comments = 0\n",
    "total_comments = 0\n",
    "\n",
    "for each_row in hn:\n",
    "    name = each_row[1]\n",
    "    n_comments = int(each_row[4])\n",
    "    total_comments += n_comments\n",
    "    if name.lower().startswith('ask'):\n",
    "        total_ask_comments += n_comments\n",
    "    elif name.lower().startswith('show'):\n",
    "        total_show_comments += n_comments\n",
    "\n",
    "avg_ask_comments = round(total_ask_comments/len(ask_posts),2)\n",
    "avg_show_comments = round(total_show_comments/len(show_posts),2)\n",
    "\n",
    "avg_ask_total = round((total_ask_comments/total_comments)*100,2)\n",
    "avg_show_total = round((total_show_comments/total_comments)*100,2)\n",
    "\n",
    "print('N ask comments: ', total_ask_comments, ', average per post: ', avg_ask_comments, ', overall average: ', avg_ask_total)\n",
    "print('N show comments: ', total_show_comments, ', average per post: ', avg_show_comments, ', overall average: ', avg_show_total )"
   ]
  },
  {
   "cell_type": "markdown",
   "metadata": {},
   "source": [
    "So, do show posts or ask posts receive more comments on average? The answer would be, yes, ask comments receive more comments per post. Also, it is worth mentioning that the \"overall averages\" shown here only sum up to 7.61%, so 92.39% of the comments are distributed on the rest of the posts. \n",
    "\n",
    "Since ask posts are more likely to receive comments, we'll focus our remaining analysis just on these posts. Next, we'll determine if ask posts created at a certain time are more likely to attract comments. We'll use the following steps to perform this analysis:\n",
    "\n",
    "* Calculate the amount of ask posts created in each hour of the day, along with the number of comments received.\n",
    "* Calculate the average number of comments ask posts receive by hour created.\n",
    "\n",
    "And to do so, we created two dictionaries:\n",
    "\n",
    "* counts_by_hour: contains the number of ask posts created during each hour of the day.\n",
    "* comments_by_hour: contains the corresponding number of comments ask posts created at each hour received."
   ]
  },
  {
   "cell_type": "code",
   "execution_count": 36,
   "metadata": {},
   "outputs": [],
   "source": [
    "import datetime as dt\n",
    "\n",
    "result_list = []\n",
    "counts_by_hour = {}\n",
    "comments_by_hour = {}\n",
    "\n",
    "ask_post_full = []\n",
    "\n",
    "for each_row in hn:\n",
    "    name = each_row[1]\n",
    "    if name.lower().startswith('ask'):\n",
    "        ask_post_full.append(each_row)\n",
    "\n",
    "for each_row in ask_post_full:\n",
    "    created_at = each_row[6]\n",
    "    n_comments = each_row[4]\n",
    "    result_list.append([created_at, n_comments])\n",
    "\n",
    "for row in result_list:\n",
    "    comment_number = int(row[1])\n",
    "    date = row[0]\n",
    "    date = dt.datetime.strptime(date, '%m/%d/%Y %H:%M')\n",
    "    date = dt.datetime.strftime(date,'%H:%M')\n",
    "    if date in counts_by_hour:\n",
    "        counts_by_hour[date] +=1\n",
    "        comments_by_hour[date] += comment_number\n",
    "    else:\n",
    "        counts_by_hour[date] = 1\n",
    "        comments_by_hour[date] = comment_number\n",
    "        "
   ]
  },
  {
   "cell_type": "markdown",
   "metadata": {},
   "source": [
    "Next, we'll use these two dictionaries to calculate the average number of comments for posts created during each hour of the day."
   ]
  },
  {
   "cell_type": "code",
   "execution_count": 60,
   "metadata": {},
   "outputs": [
    {
     "name": "stdout",
     "output_type": "stream",
     "text": [
      "[[3.2857142857142856, '02:53'], [6.2727272727272725, '01:17'], [10.25, '22:57'], [5.8, '22:48'], [2.4, '21:50'], [3.0, '19:30'], [4.428571428571429, '19:22'], [4.0, '17:55']]\n"
     ]
    }
   ],
   "source": [
    "avg_by_hour = []\n",
    "\n",
    "for each_hour in comments_by_hour:\n",
    "    if each_hour in counts_by_hour:\n",
    "        calc_avg = comments_by_hour[each_hour]/counts_by_hour[each_hour]\n",
    "        avg_by_hour.append([calc_avg, each_hour])\n",
    "\n",
    "print(avg_by_hour[:8])\n",
    "        "
   ]
  },
  {
   "cell_type": "markdown",
   "metadata": {},
   "source": [
    "Obviously, this might seem confusing at first, as we have the average in the first slot and the time in the second slot, but this makes sense now to order it, so we can swap those two values afterwards."
   ]
  },
  {
   "cell_type": "code",
   "execution_count": 75,
   "metadata": {},
   "outputs": [
    {
     "name": "stdout",
     "output_type": "stream",
     "text": [
      "Top 5 Hours for Ask Posts Comments\n",
      "04:29: 660.00 average comments per post\n",
      "15:01: 246.51 average comments per post\n",
      "15:00: 177.27 average comments per post\n",
      "02:07: 155.50 average comments per post\n",
      "05:25: 123.75 average comments per post\n"
     ]
    }
   ],
   "source": [
    "sort_avg_by_hour = sorted(avg_by_hour, reverse=True)\n",
    "\n",
    "swap_avg_by_hour = []\n",
    "\n",
    "for each_row in sort_avg_by_hour:\n",
    "    hour = each_row[1]\n",
    "    avg = each_row[0]\n",
    "    swap_avg_by_hour.append([hour, avg])\n",
    "\n",
    "print(\"Top 5 Hours for Ask Posts Comments\")\n",
    "\n",
    "count = 0 \n",
    "for each_row in swap_avg_by_hour:\n",
    "    hour = each_row[0]\n",
    "    avg = each_row[1]\n",
    "    template = \"{0}: {1:.2f} average comments per post\".format(hour, avg)\n",
    "    print(template)\n",
    "    count +=1\n",
    "    if count == 5:\n",
    "        break\n"
   ]
  },
  {
   "cell_type": "markdown",
   "metadata": {},
   "source": [
    "Based on this findings, and considering that the \"created_at\" column is the date and time the post was made, being the time zone Eastern Time in the US, if I, currently living in Spain, would like to maximaze the number of comments received after posting in Hacker News, I would need to post in the following hours:"
   ]
  },
  {
   "cell_type": "code",
   "execution_count": 87,
   "metadata": {},
   "outputs": [
    {
     "name": "stdout",
     "output_type": "stream",
     "text": [
      "Top 5 Hours for Ask Posts Comments (Spain's time zone):\n",
      "10:29: 660.00 average comments per post\n",
      "21:01: 246.51 average comments per post\n",
      "21:00: 177.27 average comments per post\n",
      "08:07: 155.50 average comments per post\n",
      "11:25: 123.75 average comments per post\n"
     ]
    }
   ],
   "source": [
    "print(\"Top 5 Hours for Ask Posts Comments (Spain's time zone):\")\n",
    "\n",
    "count = 0 \n",
    "for each_row in swap_avg_by_hour:\n",
    "    prov_date = dt.datetime.strptime(each_row[0],\"%H:%M\")\n",
    "    hour = prov_date + dt.timedelta(hours=6)\n",
    "    hour = dt.datetime.strftime(hour, \"%H:%M\")\n",
    "    avg = each_row[1]\n",
    "    template = \"{0}: {1:.2f} average comments per post\".format(hour, avg)\n",
    "    print(template)\n",
    "    count +=1\n",
    "    if count == 5:\n",
    "        break"
   ]
  },
  {
   "cell_type": "markdown",
   "metadata": {},
   "source": []
  }
 ],
 "metadata": {
  "kernelspec": {
   "display_name": "Python 3",
   "language": "python",
   "name": "python3"
  },
  "language_info": {
   "codemirror_mode": {
    "name": "ipython",
    "version": 3
   },
   "file_extension": ".py",
   "mimetype": "text/x-python",
   "name": "python",
   "nbconvert_exporter": "python",
   "pygments_lexer": "ipython3",
   "version": "3.7.4"
  }
 },
 "nbformat": 4,
 "nbformat_minor": 2
}
